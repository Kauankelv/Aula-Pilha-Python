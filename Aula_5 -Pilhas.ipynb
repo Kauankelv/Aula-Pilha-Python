{
 "cells": [
  {
   "cell_type": "markdown",
   "metadata": {},
   "source": [
    "## Caso de Uso: Pilha em um Editor de Texto\n",
    "Descrição:\n",
    "Um editor de texto é uma aplicação que permite aos usuários criar, editar e formatar documentos de texto. Uma funcionalidade essencial em muitos editores de texto é a capacidade de desfazer e refazer ações realizadas pelo usuário. Isso é especialmente útil quando o usuário comete um erro e deseja reverter para um estado anterior do documento.\n",
    "\n",
    "## Implementação da Pilha:\n",
    "A pilha é uma escolha ideal para implementar a funcionalidade de desfazer e refazer em um editor de texto devido à sua natureza de LIFO (Last-In-First-Out). Cada ação realizada pelo usuário, como digitar um caractere, excluir um caractere, ou formatar um trecho de texto, pode ser representada como um comando e armazenada na pilha."
   ]
  },
  {
   "cell_type": "code",
   "execution_count": 1,
   "metadata": {},
   "outputs": [
    {
     "name": "stdout",
     "output_type": "stream",
     "text": [
      "Texto atual: Olá, mundo! Isso é um exemplo de editor de texto. \n",
      "Após desfazer: Olá, mundo! \n",
      "Após refazer: Olá, mundo! Isso é um exemplo de editor de texto. \n"
     ]
    }
   ],
   "source": [
    "class StackNode:\n",
    "    def __init__(self, data):\n",
    "        self.data = data\n",
    "        self.next = None\n",
    "\n",
    "class Stack:\n",
    "    def __init__(self):\n",
    "        self.top = None\n",
    "    \n",
    "    def is_empty(self):\n",
    "        return self.top is None\n",
    "    \n",
    "    def push(self, data):\n",
    "        new_node = StackNode(data)\n",
    "        new_node.next = self.top\n",
    "        self.top = new_node\n",
    "    \n",
    "    def pop(self):\n",
    "        if self.is_empty():\n",
    "            raise Exception(\"Stack is empty\")\n",
    "        data = self.top.data\n",
    "        self.top = self.top.next\n",
    "        return data\n",
    "    \n",
    "    def peek(self):\n",
    "        if self.is_empty():\n",
    "            raise Exception(\"Stack is empty\")\n",
    "        return self.top.data\n",
    "\n",
    "class TextEditor:\n",
    "    def __init__(self):\n",
    "        self.text = \"\"\n",
    "        self.undo_stack = Stack()\n",
    "        self.redo_stack = Stack()\n",
    "    \n",
    "    def insert_text(self, text):\n",
    "        self.text += text\n",
    "        self.undo_stack.push((\"insert\", text))\n",
    "        self.redo_stack = Stack()  # Limpa a pilha de refazer\n",
    "    \n",
    "    def delete_text(self, length):\n",
    "        deleted_text = self.text[-length:]\n",
    "        self.text = self.text[:-length]\n",
    "        self.undo_stack.push((\"delete\", deleted_text))\n",
    "        self.redo_stack = Stack()  # Limpa a pilha de refazer\n",
    "    \n",
    "    def undo(self):\n",
    "        if not self.undo_stack.is_empty():\n",
    "            action, data = self.undo_stack.pop()\n",
    "            if action == \"insert\":\n",
    "                self.text = self.text[:-len(data)]\n",
    "                self.redo_stack.push((\"insert\", data))\n",
    "            elif action == \"delete\":\n",
    "                self.text += data\n",
    "                self.redo_stack.push((\"delete\", data))\n",
    "    \n",
    "    def redo(self):\n",
    "        if not self.redo_stack.is_empty():\n",
    "            action, data = self.redo_stack.pop()\n",
    "            if action == \"insert\":\n",
    "                self.text += data\n",
    "                self.undo_stack.push((\"insert\", data))\n",
    "            elif action == \"delete\":\n",
    "                self.text = self.text[:-len(data)]\n",
    "                self.undo_stack.push((\"delete\", data))\n",
    "\n",
    "# Exemplo de uso\n",
    "editor = TextEditor()\n",
    "editor.insert_text(\"Olá, mundo! \")\n",
    "editor.insert_text(\"Isso é um exemplo de editor de texto. \")\n",
    "print(\"Texto atual:\", editor.text)\n",
    "\n",
    "editor.undo()\n",
    "print(\"Após desfazer:\", editor.text)\n",
    "\n",
    "editor.redo()\n",
    "print(\"Após refazer:\", editor.text)\n"
   ]
  }
 ],
 "metadata": {
  "kernelspec": {
   "display_name": "Python 3",
   "language": "python",
   "name": "python3"
  },
  "language_info": {
   "codemirror_mode": {
    "name": "ipython",
    "version": 3
   },
   "file_extension": ".py",
   "mimetype": "text/x-python",
   "name": "python",
   "nbconvert_exporter": "python",
   "pygments_lexer": "ipython3",
   "version": "3.11.8"
  }
 },
 "nbformat": 4,
 "nbformat_minor": 2
}
