{
 "cells": [
  {
   "cell_type": "code",
   "execution_count": 1,
   "metadata": {},
   "outputs": [
    {
     "name": "stdout",
     "output_type": "stream",
     "text": [
      "Hello, World!\n",
      "Meu nome é: Kauãn Kelvin Mendes Da Costa\n"
     ]
    }
   ],
   "source": [
    "print(\"Hello, World!\")\n",
    "print(\"Meu nome é: Kauãn Kelvin Mendes Da Costa\")"
   ]
  },
  {
   "cell_type": "markdown",
   "metadata": {},
   "source": [
    "## 1 Aula\n",
    "Estudar Estrutura de Dados é empolgante! Este é meu primeiro código em Python relacionado à disciplina, e estou ansioso para explorar todas as possibilidades que ela oferece. Cada linha de código escrita representa uma nova descoberta, um novo desafio e uma oportunidade de aprendizado. Mal posso esperar para ver o que esta jornada de estudo vai trazer!"
   ]
  }
 ],
 "metadata": {
  "kernelspec": {
   "display_name": "Python 3",
   "language": "python",
   "name": "python3"
  },
  "language_info": {
   "codemirror_mode": {
    "name": "ipython",
    "version": 3
   },
   "file_extension": ".py",
   "mimetype": "text/x-python",
   "name": "python",
   "nbconvert_exporter": "python",
   "pygments_lexer": "ipython3",
   "version": "3.11.8"
  }
 },
 "nbformat": 4,
 "nbformat_minor": 2
}
