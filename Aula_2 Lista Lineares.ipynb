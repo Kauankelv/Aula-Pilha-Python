# Lista Linear em Python

Aqui está um exemplo de implementação de uma lista linear em Python, juntamente com comentários explicativos:

```python
class ListNode:
    def __init__(self, data):
        """
        Classe ListNode representa um nó da lista linear.

        Args:
            data: O dado armazenado no nó.
        """
        self.data = data  # Armazena o dado do nó
        self.next = None  # Referência para o próximo nó na lista


class LinkedList:
    def __init__(self):
        """
        Classe LinkedList representa uma lista linear encadeada.

        """
        self.head = None  # Referência para o primeiro nó da lista

    def append(self, data):
        """
        Adiciona um novo nó com o dado fornecido no final da lista.

        Args:
            data: O dado a ser adicionado à lista.
        """
        new_node = ListNode(data)  # Cria um novo nó com o dado fornecido

        # Se a lista estiver vazia, o novo nó se torna a cabeça da lista
        if self.head is None:
            self.head = new_node
            return

        # Caso contrário, percorre a lista até o último nó
        last_node = self.head
        while last_node.next:
            last_node = last_node.next

        # Adiciona o novo nó após o último nó
        last_node.next = new_node

    def display(self):
        """
        Exibe todos os elementos presentes na lista.
        """
        current = self.head  # Começa a partir da cabeça da lista
        while current:
            print(current.data, end=" -> ")  # Imprime o dado do nó atual
            current = current.next  # Move para o próximo nó
        print("None")  # Indica o fim da lista


# Criando uma lista linear e adicionando elementos
my_list = LinkedList()
my_list.append(1)
my_list.append(2)
my_list.append(3)

# Exibindo os elementos da lista
print("Lista Linear:")
my_list.display()
