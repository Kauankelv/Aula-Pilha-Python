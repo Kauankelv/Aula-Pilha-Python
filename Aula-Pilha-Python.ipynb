{
 "cells": [
  {
   "cell_type": "code",
   "execution_count": 1,
   "metadata": {},
   "outputs": [
    {
     "name": "stdout",
     "output_type": "stream",
     "text": [
      "String original: Olá mundo!\n",
      "String invertida: !odnum álO\n"
     ]
    }
   ],
   "source": [
    "class No:\n",
    "    def __init__(self, valor):\n",
    "        self.valor = valor\n",
    "        self.proximo = None\n",
    "\n",
    "class Pilha:\n",
    "    def __init__(self):\n",
    "        self.topo = None\n",
    "\n",
    "    def push(self, valor):\n",
    "        novo_no = No(valor)\n",
    "        novo_no.proximo = self.topo\n",
    "        self.topo = novo_no\n",
    "\n",
    "    def pop(self):\n",
    "        if self.topo is not None:\n",
    "            removido = self.topo\n",
    "            self.topo = self.topo.proximo\n",
    "            return removido.valor\n",
    "        raise Exception(\"Pilha vazia\")\n",
    "\n",
    "    def peek(self):\n",
    "        if self.topo is not None:\n",
    "            return self.topo.valor\n",
    "        raise Exception(\"Pilha vazia\")\n",
    "\n",
    "    def is_empty(self):\n",
    "        return self.topo is None\n",
    "\n",
    "def inverter_string(string):\n",
    "    pilha = Pilha()\n",
    "    for caractere in string:\n",
    "        pilha.push(caractere)\n",
    "    \n",
    "    string_invertida = \"\"\n",
    "    while not pilha.is_empty():\n",
    "        string_invertida += pilha.pop()\n",
    "    \n",
    "    return string_invertida\n",
    "\n",
    "# Teste\n",
    "string_teste = \"Olá mundo!\"\n",
    "print(\"String original:\", string_teste)\n",
    "print(\"String invertida:\", inverter_string(string_teste))"
   ]
  }
 ],
 "metadata": {
  "kernelspec": {
   "display_name": "Python 3",
   "language": "python",
   "name": "python3"
  },
  "language_info": {
   "codemirror_mode": {
    "name": "ipython",
    "version": 3
   },
   "file_extension": ".py",
   "mimetype": "text/x-python",
   "name": "python",
   "nbconvert_exporter": "python",
   "pygments_lexer": "ipython3",
   "version": "3.11.8"
  }
 },
 "nbformat": 4,
 "nbformat_minor": 2
}
