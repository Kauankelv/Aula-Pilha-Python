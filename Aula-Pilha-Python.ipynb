{
 "cells": [
  {
   "cell_type": "code",
   "execution_count": 1,
   "metadata": {},
   "outputs": [
    {
     "name": "stdout",
     "output_type": "stream",
     "text": [
      "String original: Olá mundo!\n",
      "String invertida: !odnum álO\n"
     ]
    }
   ],
   "source": [
    "class No:\n",
    "    def __init__(self, valor):\n",
    "        self.valor = valor\n",
    "        self.proximo = None\n",
    "\n",
    "class Pilha:\n",
    "    def __init__(self):\n",
    "        self.topo = None\n",
    "\n",
    "    def push(self, valor):\n",
    "        novo_no = No(valor)\n",
    "        novo_no.proximo = self.topo\n",
    "        self.topo = novo_no\n",
    "\n",
    "    def pop(self):\n",
    "        if self.topo is not None:\n",
    "            removido = self.topo\n",
    "            self.topo = self.topo.proximo\n",
    "            return removido.valor\n",
    "        raise Exception(\"Pilha vazia\")\n",
    "\n",
    "    def peek(self):\n",
    "        if self.topo is not None:\n",
    "            return self.topo.valor\n",
    "        raise Exception(\"Pilha vazia\")\n",
    "\n",
    "    def is_empty(self):\n",
    "        return self.topo is None\n",
    "\n",
    "def inverter_string(string):\n",
    "    pilha = Pilha()\n",
    "    for caractere in string:\n",
    "        pilha.push(caractere)\n",
    "    \n",
    "    string_invertida = \"\"\n",
    "    while not pilha.is_empty():\n",
    "        string_invertida += pilha.pop()\n",
    "    \n",
    "    return string_invertida\n",
    "\n",
    "# Teste\n",
    "string_teste = \"Olá mundo!\"\n",
    "print(\"String original:\", string_teste)\n",
    "print(\"String invertida:\", inverter_string(string_teste))"
   ]
  },
  {"cell_type": "markdown",
   "metadata": {},
   "source": [
    "## Descrição:\n",
    "\n",
    "Este código Python implementa um programa que aceita uma string como entrada, utiliza uma pilha para inserir cada caractere da string e, em seguida, utiliza o método pop da pilha para remover e imprimir os caracteres em ordem reversa, resultando na string invertida.\n",
    "\n",
    "## Funcionalidades implementadas:\n",
    "\n",
    "Classe No: Define um nó simples para uso na implementação da pilha. Cada nó armazena um valor e uma referência para o próximo nó na pilha.\n",
    "Classe Pilha: Implementa uma pilha utilizando a estrutura de nós definida pela classe No. A pilha permite operações como push para adicionar elementos, pop para remover e retornar o elemento no topo da pilha, peek para visualizar o elemento no topo da pilha sem removê-lo e is_empty para verificar se a pilha está vazia.\n",
    "Função inverter_string: Aceita uma string como entrada, insere cada caractere da string na pilha, remove os caracteres da pilha em ordem reversa e retorna a string resultante.\n",
    "Testagens realizadas:\n",
    "\n",
    "Foram realizados testes com várias strings de diferentes comprimentos e conteúdos para verificar a corretude da inversão. Isso incluiu strings contendo caracteres especiais, números e espaços. Cada teste verificou se a saída do programa correspondia à string de entrada invertida corretamente.\n",
    "\n",
    "## Conclusões sobre a aplicabilidade da solução:\n",
    "\n",
    "A solução desenvolvida mostrou-se eficaz na inversão de strings, independentemente do conteúdo e do comprimento da string de entrada. O uso de uma pilha para armazenar os caracteres e o método pop para inverter a ordem dos caracteres mostrou-se uma abordagem simples e eficiente. Esta solução pode ser facilmente integrada em outros programas que requerem a inversão de strings."
   ]
  }
 ],
 "metadata": {
  "kernelspec": {
   "display_name": "Python 3",
   "language": "python",
   "name": "python3"
  },
  "language_info": {
   "codemirror_mode": {
    "name": "ipython",
    "version": 3
   },
   "file_extension": ".py",
   "mimetype": "text/x-python",
   "name": "python",
   "nbconvert_exporter": "python",
   "pygments_lexer": "ipython3",
   "version": "3.11.8"
  }
 },
 "nbformat": 4,
 "nbformat_minor": 2
}
