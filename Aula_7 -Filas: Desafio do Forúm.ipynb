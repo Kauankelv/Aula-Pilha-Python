{
 "cells": [
  {
   "cell_type": "markdown",
   "metadata": {},
   "source": [
    "## Introdução\n",
    "Nesta semana, estudamos sobre Filas, uma estrutura de dados fundamental. Vamos explorar como aplicar as Filas em situações do mundo real para resolver problemas ou otimizar processos.\n",
    "\n",
    "## Desafio da Semana\n",
    "Identifique um problema prático que possa se beneficiar do uso de uma Fila. Descreva o cenário detalhadamente e explique por que a estrutura de Fila é a mais adequada para resolver esse problema.\n",
    "\n",
    "## Critérios\n",
    "Originalidade e relevância prática na escolha do problema.\n",
    "Explicação clara sobre como as características da Fila contribuem para a solução do problema.\n",
    "Uso de exemplos concretos e exploração de cenários menos discutidos."
   ]
  },
  {
   "cell_type": "code",
   "execution_count": 3,
   "metadata": {},
   "outputs": [
    {
     "name": "stdout",
     "output_type": "stream",
     "text": [
      "Atendendo o cliente: Cliente 1\n",
      "Atendendo o cliente: Cliente 2\n",
      "Próximo cliente: Cliente 3\n",
      "Ainda há clientes aguardando atendimento.\n",
      "Tamanho da fila: 2\n"
     ]
    }
   ],
   "source": [
    "class Queue:\n",
    "    def __init__(self):\n",
    "        self.queue = []\n",
    "\n",
    "    def enqueue(self, item):\n",
    "        \"\"\"Insere um elemento no final da fila.\"\"\"\n",
    "        self.queue.append(item)\n",
    "\n",
    "    def dequeue(self):\n",
    "        \"\"\"Remove e retorna o primeiro elemento da fila.\"\"\"\n",
    "        if self.is_empty():\n",
    "            raise ValueError(\"A fila está vazia\")\n",
    "        return self.queue.pop(0)\n",
    "\n",
    "    def peek(self):\n",
    "        \"\"\"Retorna o primeiro elemento da fila sem removê-lo.\"\"\"\n",
    "        if self.is_empty():\n",
    "            raise ValueError(\"A fila está vazia\")\n",
    "        return self.queue[0]\n",
    "\n",
    "    def is_empty(self):\n",
    "        \"\"\"Verifica se a fila está vazia.\"\"\"\n",
    "        return len(self.queue) == 0\n",
    "\n",
    "    def size(self):\n",
    "        \"\"\"Retorna o tamanho da fila.\"\"\"\n",
    "        return len(self.queue)\n",
    "\n",
    "\n",
    "# Testando a implementação da fila\n",
    "fila_bancaria = Queue()\n",
    "\n",
    "# Clientes chegam à agência bancária e entram na fila de espera\n",
    "fila_bancaria.enqueue(\"Cliente 1\")\n",
    "fila_bancaria.enqueue(\"Cliente 2\")\n",
    "fila_bancaria.enqueue(\"Cliente 3\")\n",
    "\n",
    "# Atendimento dos clientes pelos caixas disponíveis\n",
    "print(\"Atendendo o cliente:\", fila_bancaria.dequeue())\n",
    "print(\"Atendendo o cliente:\", fila_bancaria.dequeue())\n",
    "\n",
    "# Novo cliente chega à agência e entra na fila\n",
    "fila_bancaria.enqueue(\"Cliente 4\")\n",
    "\n",
    "# Verificando o próximo cliente a ser atendido\n",
    "print(\"Próximo cliente:\", fila_bancaria.peek())\n",
    "\n",
    "# Verificando se a fila está vazia\n",
    "if fila_bancaria.is_empty():\n",
    "    print(\"Não há clientes aguardando atendimento.\")\n",
    "else:\n",
    "    print(\"Ainda há clientes aguardando atendimento.\")\n",
    "\n",
    "# Tamanho atual da fila\n",
    "print(\"Tamanho da fila:\", fila_bancaria.size())\n"
   ]
  }
 ],
 "metadata": {
  "kernelspec": {
   "display_name": "Python 3",
   "language": "python",
   "name": "python3"
  },
  "language_info": {
   "codemirror_mode": {
    "name": "ipython",
    "version": 3
   },
   "file_extension": ".py",
   "mimetype": "text/x-python",
   "name": "python",
   "nbconvert_exporter": "python",
   "pygments_lexer": "ipython3",
   "version": "3.11.8"
  }
 },
 "nbformat": 4,
 "nbformat_minor": 2
}
